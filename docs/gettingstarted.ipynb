{
 "cells": [
  {
   "cell_type": "markdown",
   "metadata": {},
   "source": [
    "Import the modules "
   ]
  },
  {
   "cell_type": "code",
   "execution_count": 1,
   "metadata": {},
   "outputs": [],
   "source": [
    "from pycalrissian.context import CalrissianContext\n",
    "from pycalrissian.job import CalrissianJob\n",
    "from pycalrissian.execution import CalrissianExecution\n",
    "import base64\n",
    "import os\n",
    "import yaml\n",
    "from kubernetes.client.models.v1_job import V1Job\n"
   ]
  },
  {
   "cell_type": "markdown",
   "metadata": {},
   "source": [
    "## Create the image pull secrets\n",
    "\n",
    "There's one for docker.hub and one for Gitlab container registry as the CWL description to run refers container images published on those two container registries"
   ]
  },
  {
   "cell_type": "code",
   "execution_count": 3,
   "metadata": {},
   "outputs": [],
   "source": [
    "username = \"\"\n",
    "password = \"\"\n",
    "\n",
    "\n",
    "auth = base64.b64encode(f\"{username}:{password}\".encode(\"utf-8\")).decode(\n",
    "    \"utf-8\"\n",
    ")\n",
    "\n",
    "secret_config = {\n",
    "    \"auths\": {\n",
    "        \"registry.gitlab.com\": {\n",
    "            \"auth\": \"\"\n",
    "        },\n",
    "        \"https://index.docker.io/v1/\": {\n",
    "\t\t\t\"auth\": \"\"\n",
    "\t\t},\n",
    "\n",
    "    }\n",
    "}"
   ]
  },
  {
   "cell_type": "code",
   "execution_count": 4,
   "metadata": {},
   "outputs": [
    {
     "data": {
      "text/plain": [
       "{'auths': {'registry.gitlab.com': {'auth': 'Z2l0bGFiK2RlcGxveS10b2tlbi0xODgxNzY4Oko1dHU4eXhkU3E0a19RMXpOOGhv'},\n",
       "  'https://index.docker.io/v1/': {'auth': 'ZmFicmljZWJyaXRvOmRja3JfcGF0X1E3NFRFZWhBZWVsSW9BWUFLamVUcmlRTldqZw=='}}}"
      ]
     },
     "execution_count": 4,
     "metadata": {},
     "output_type": "execute_result"
    }
   ],
   "source": [
    "secret_config"
   ]
  },
  {
   "cell_type": "markdown",
   "metadata": {},
   "source": [
    "**Take away messages about image pull secrets**\n",
    "\n",
    "* they're created as a dictionary with the same structure as your `~/.docker/config` file\n",
    "* you can use the username/password pair or the auth string "
   ]
  },
  {
   "cell_type": "markdown",
   "metadata": {},
   "source": [
    "## Create the CalrissianContext\n",
    "\n",
    "The CalrissianContext creates a kubernetes namespace on the cluster.\n",
    "\n",
    "Note: our kubernetes cluster uses the `longhorn` RWX storage class, adapt it to your cluster configuration\n",
    "\n",
    "### Using existing secrets\n",
    "\n",
    "In addition to the `imagePullSecrets`, you can also specify an `additionalImagePullSecrets` key in the dictionary.\n",
    "\n",
    "This `additionalImagePullSecrets` is an array of secrets defined in the same namespace where the ZOO-Project-DRU Helm chart is deployed.\n",
    "\n",
    "Example: \n",
    "\n",
    "From the command line, you can create secret in any namespace.\n",
    "\n",
    "````bash\n",
    "# Creating a secret my-secret in the \n",
    "kubectl create secret docker-registry my-secret \\\n",
    "  --docker-email=tiger@acme.example \\\n",
    "  --docker-username=tiger \\\n",
    "  --docker-password=pass1234 \\\n",
    "  --docker-server=my-registry.example:5000 \\\n",
    "  -n given-namespace\n",
    "````\n",
    "\n",
    "With the secret defined, you can reference them from your CalrissianContext as presented below.\n",
    "\n",
    "\n",
    "````python\n",
    "#Creating a CalrissianContext using the this secret\n",
    "session = CalrissianContext(\n",
    "            namespace=namespace_name,\n",
    "            storage_class=\"openebs-kernel-nfs-scw\",\n",
    "            volume_size=\"10G\",\n",
    "            image_pull_secrets={\n",
    "                \"imagePullSecrets\": secret_config,\n",
    "                \"additionalImagePullSecrets\": [\n",
    "                    {\"name\": \"my-secret\"},\n",
    "                    {\"name\": \"my-other-secret\"}\n",
    "                ]\n",
    "            },\n",
    ")\n",
    "````\n",
    "\n",
    "This is useful if you have multiple secrets that you want to use to pull images from different registries.\n",
    "\n",
    "The `additionalImagePullSecrets` key is optional and can be omitted if you only want to use the imagePullSecret.\n",
    "\n"
   ]
  },
  {
   "cell_type": "code",
   "execution_count": null,
   "metadata": {},
   "outputs": [],
   "source": [
    "namespace_name = \"job-namespace-n\"\n",
    "\n",
    "session = CalrissianContext(\n",
    "            namespace=namespace_name,\n",
    "            storage_class=\"openebs-kernel-nfs-scw\",\n",
    "            volume_size=\"10G\",\n",
    "            image_pull_secrets={\"imagePullSecrets\": secret_config},\n",
    ")\n"
   ]
  },
  {
   "cell_type": "markdown",
   "metadata": {},
   "source": [
    "\n",
    "Now trigger the `CalrissianContext` initialisation with:"
   ]
  },
  {
   "cell_type": "code",
   "execution_count": 9,
   "metadata": {},
   "outputs": [
    {
     "name": "stderr",
     "output_type": "stream",
     "text": [
      "2023-03-22 11:04:26.594 | INFO     | pycalrissian.context:initialise:65 - create namespace job-namespace-n\n",
      "2023-03-22 11:04:26.642 | INFO     | pycalrissian.context:create_namespace:281 - creating namespace job-namespace-n\n",
      "2023-03-22 11:04:31.757 | INFO     | pycalrissian.context:create_namespace:294 - namespace job-namespace-n created\n",
      "2023-03-22 11:04:31.760 | INFO     | pycalrissian.context:initialise:82 - create role pod-manager-role\n",
      "2023-03-22 11:04:36.912 | INFO     | pycalrissian.context:create_role:333 - role pod-manager-role created\n",
      "2023-03-22 11:04:36.914 | INFO     | pycalrissian.context:initialise:91 - create role binding for role pod-manager-role\n",
      "2023-03-22 11:04:42.069 | INFO     | pycalrissian.context:create_role_binding:373 - role binding pod-manager-default-binding created\n",
      "2023-03-22 11:04:42.070 | INFO     | pycalrissian.context:initialise:82 - create role log-reader-role\n",
      "2023-03-22 11:04:47.228 | INFO     | pycalrissian.context:create_role:333 - role log-reader-role created\n",
      "2023-03-22 11:04:47.230 | INFO     | pycalrissian.context:initialise:91 - create role binding for role log-reader-role\n",
      "2023-03-22 11:04:52.400 | INFO     | pycalrissian.context:create_role_binding:373 - role binding log-reader-default-binding created\n",
      "2023-03-22 11:04:52.402 | INFO     | pycalrissian.context:initialise:96 - create persistent volume claim 'calrissian-wdir' of 10G with storage class openebs-kernel-nfs-scw\n",
      "2023-03-22 11:04:57.562 | INFO     | pycalrissian.context:create_pvc:416 - pvc calrissian-wdir created\n",
      "2023-03-22 11:04:57.564 | INFO     | pycalrissian.context:initialise:110 - create secret container-rg\n",
      "2023-03-22 11:05:02.727 | INFO     | pycalrissian.context:create_image_pull_secret:510 - image pull secret container-rg created\n",
      "2023-03-22 11:05:02.730 | INFO     | pycalrissian.context:initialise:113 - patch service account\n"
     ]
    }
   ],
   "source": [
    "session.initialise()"
   ]
  },
  {
   "cell_type": "markdown",
   "metadata": {},
   "source": [
    "## Read the CWL document\n",
    "\n",
    "Now load a CWL document and create a dictionary with the parameters:\n"
   ]
  },
  {
   "cell_type": "code",
   "execution_count": 10,
   "metadata": {},
   "outputs": [],
   "source": [
    "with open(\"../tests/app-s2-composites.0.1.0.cwl\", \"r\") as stream:\n",
    "    cwl = yaml.safe_load(stream)\n",
    "\n",
    "params = {\n",
    "    \"post_stac_item\": \"https://earth-search.aws.element84.com/v0/collections/sentinel-s2-l2a-cogs/items/S2B_53HPA_20210723_0_L2A\", # noqa: E501\n",
    "    \"pre_stac_item\": \"https://earth-search.aws.element84.com/v0/collections/sentinel-s2-l2a-cogs/items/S2B_53HPA_20210703_0_L2A\", # noqa: E501\n",
    "    \"aoi\": \"136.659,-35.96,136.923,-35.791\",\n",
    "}"
   ]
  },
  {
   "cell_type": "markdown",
   "metadata": {},
   "source": [
    "**Take away messages**\n",
    "\n",
    "* The CWL description is loaded into a Python dictionary\n",
    "* The parameters are a Python dictionary\n",
    "\n",
    "So you can discover the CWL Workflow parameters with something like:"
   ]
  },
  {
   "cell_type": "code",
   "execution_count": 11,
   "metadata": {},
   "outputs": [
    {
     "data": {
      "text/plain": [
       "{'pre_stac_item': {'doc': 'Pre-event Sentinel-2 item', 'type': 'string'},\n",
       " 'post_stac_item': {'doc': 'Post-event Sentinel-2 item', 'type': 'string'},\n",
       " 'aoi': {'doc': 'area of interest as a bounding box', 'type': 'string?'},\n",
       " 'bands': {'type': 'string[]', 'default': ['B8A', 'B12', 'SCL']}}"
      ]
     },
     "execution_count": 11,
     "metadata": {},
     "output_type": "execute_result"
    }
   ],
   "source": [
    "cwl[\"$graph\"][0][\"inputs\"]"
   ]
  },
  {
   "cell_type": "markdown",
   "metadata": {},
   "source": [
    "## Create the `CalrissianJob`"
   ]
  },
  {
   "cell_type": "code",
   "execution_count": 12,
   "metadata": {},
   "outputs": [
    {
     "name": "stderr",
     "output_type": "stream",
     "text": [
      "2023-03-22 11:05:17.787 | INFO     | pycalrissian.job:__init__:68 - using default security context {'runAsUser': 0, 'runAsGroup': 0, 'fsGroup': 0}\n",
      "2023-03-22 11:05:17.788 | INFO     | pycalrissian.job:__init__:79 - job name: job-1679483117788287-73087b7b-3801-4ef0-9662-8f8b48f93c70\n",
      "2023-03-22 11:05:17.788 | INFO     | pycalrissian.job:__init__:80 - create CWL config map\n",
      "2023-03-22 11:05:22.973 | INFO     | pycalrissian.context:create_configmap:467 - config map cwl-workflow created\n",
      "2023-03-22 11:05:22.974 | INFO     | pycalrissian.job:__init__:82 - create processing parameters config map\n",
      "2023-03-22 11:05:28.127 | INFO     | pycalrissian.context:create_configmap:467 - config map params created\n"
     ]
    }
   ],
   "source": [
    "os.environ[\"CALRISSIAN_IMAGE\"] = \"docker.io/terradue/calrissian:0.12.0\"\n",
    "job = CalrissianJob(\n",
    "    cwl=cwl,\n",
    "    params=params,\n",
    "    runtime_context=session,\n",
    "    cwl_entry_point=\"dnbr\",\n",
    "    max_cores=2,\n",
    "    max_ram=\"4G\",\n",
    "    tool_logs=True,\n",
    ")"
   ]
  },
  {
   "cell_type": "markdown",
   "metadata": {},
   "source": [
    "The `CalrissianJob` object is constructed with:\n",
    "\n",
    "* a CWL dictionary\n",
    "* a parameters dictionaty\n",
    "* a runtime context, a CalrissianContext object\n",
    "* the maximum number of cores the pods can use \n",
    "* the maximum amount of RAM  the pods can use"
   ]
  },
  {
   "cell_type": "markdown",
   "metadata": {},
   "source": [
    "The CalrissianJob can be serialized to a Kubernetes Job object:"
   ]
  },
  {
   "cell_type": "code",
   "execution_count": 13,
   "metadata": {},
   "outputs": [
    {
     "name": "stderr",
     "output_type": "stream",
     "text": [
      "2023-03-22 11:05:43.200 | INFO     | pycalrissian.job:_get_calrissian_container:417 - using Calrissian image: docker.io/terradue/calrissian:0.12.0\n"
     ]
    },
    {
     "data": {
      "text/plain": [
       "True"
      ]
     },
     "execution_count": 13,
     "metadata": {},
     "output_type": "execute_result"
    }
   ],
   "source": [
    "isinstance(job.to_k8s_job(), V1Job)"
   ]
  },
  {
   "cell_type": "markdown",
   "metadata": {},
   "source": [
    "Or to a Kubernetes Job manifest in YAML:"
   ]
  },
  {
   "cell_type": "code",
   "execution_count": 14,
   "metadata": {},
   "outputs": [
    {
     "name": "stderr",
     "output_type": "stream",
     "text": [
      "2023-03-22 11:05:44.398 | INFO     | pycalrissian.job:_get_calrissian_container:417 - using Calrissian image: docker.io/terradue/calrissian:0.12.0\n",
      "2023-03-22 11:05:44.407 | INFO     | pycalrissian.job:to_yaml:143 - job job-1679483117788287-73087b7b-3801-4ef0-9662-8f8b48f93c70 serialized to job.yml\n"
     ]
    }
   ],
   "source": [
    "job.to_yaml(\"job.yml\")"
   ]
  },
  {
   "cell_type": "markdown",
   "metadata": {},
   "source": [
    "**Note** The Calrissian pod image can be defined with the environment variable `CALRISSIAN_IMAGE`"
   ]
  },
  {
   "cell_type": "markdown",
   "metadata": {},
   "source": [
    "At this stage, you could do `kubectl -n job-namespace apply -f job.yml` to submit the job on kubernetes"
   ]
  },
  {
   "cell_type": "markdown",
   "metadata": {},
   "source": [
    "## Create the `CalrissianExecution` \n"
   ]
  },
  {
   "cell_type": "code",
   "execution_count": 15,
   "metadata": {},
   "outputs": [],
   "source": [
    "execution = CalrissianExecution(job=job, runtime_context=session)"
   ]
  },
  {
   "cell_type": "markdown",
   "metadata": {},
   "source": [
    "Submit the job with:"
   ]
  },
  {
   "cell_type": "code",
   "execution_count": 16,
   "metadata": {},
   "outputs": [
    {
     "name": "stderr",
     "output_type": "stream",
     "text": [
      "2023-03-22 11:05:49.797 | INFO     | pycalrissian.execution:submit:32 - submit job job-1679483117788287-73087b7b-3801-4ef0-9662-8f8b48f93c70\n",
      "2023-03-22 11:05:49.800 | INFO     | pycalrissian.job:_get_calrissian_container:417 - using Calrissian image: docker.io/terradue/calrissian:0.12.0\n",
      "2023-03-22 11:05:49.869 | INFO     | pycalrissian.execution:submit:38 - job job-1679483117788287-73087b7b-3801-4ef0-9662-8f8b48f93c70 submitted\n"
     ]
    }
   ],
   "source": [
    "execution.submit()"
   ]
  },
  {
   "cell_type": "markdown",
   "metadata": {},
   "source": [
    "Monitor the execution with:"
   ]
  },
  {
   "cell_type": "code",
   "execution_count": 17,
   "metadata": {},
   "outputs": [
    {
     "name": "stderr",
     "output_type": "stream",
     "text": [
      "2023-03-22 11:05:56.327 | INFO     | pycalrissian.execution:monitor:210 - job job-1679483117788287-73087b7b-3801-4ef0-9662-8f8b48f93c70 is active\n",
      "2023-03-22 11:06:16.413 | INFO     | pycalrissian.execution:monitor:210 - job job-1679483117788287-73087b7b-3801-4ef0-9662-8f8b48f93c70 is active\n",
      "2023-03-22 11:06:36.482 | INFO     | pycalrissian.execution:monitor:210 - job job-1679483117788287-73087b7b-3801-4ef0-9662-8f8b48f93c70 is active\n",
      "2023-03-22 11:06:56.566 | INFO     | pycalrissian.execution:monitor:210 - job job-1679483117788287-73087b7b-3801-4ef0-9662-8f8b48f93c70 is active\n",
      "2023-03-22 11:07:16.643 | INFO     | pycalrissian.execution:monitor:210 - job job-1679483117788287-73087b7b-3801-4ef0-9662-8f8b48f93c70 is active\n",
      "2023-03-22 11:07:36.725 | INFO     | pycalrissian.execution:monitor:210 - job job-1679483117788287-73087b7b-3801-4ef0-9662-8f8b48f93c70 is active\n",
      "2023-03-22 11:07:56.812 | INFO     | pycalrissian.execution:monitor:210 - job job-1679483117788287-73087b7b-3801-4ef0-9662-8f8b48f93c70 is active\n",
      "2023-03-22 11:08:16.942 | INFO     | pycalrissian.execution:monitor:210 - job job-1679483117788287-73087b7b-3801-4ef0-9662-8f8b48f93c70 is active\n",
      "2023-03-22 11:08:37.152 | INFO     | pycalrissian.execution:monitor:239 - execution is complete\n",
      "2023-03-22 11:08:37.216 | INFO     | pycalrissian.execution:monitor:241 - the outcome is: success!\n"
     ]
    }
   ],
   "source": [
    "execution.monitor(interval=20)"
   ]
  },
  {
   "cell_type": "markdown",
   "metadata": {},
   "source": [
    "Get the execution log"
   ]
  },
  {
   "cell_type": "code",
   "execution_count": 18,
   "metadata": {},
   "outputs": [
    {
     "name": "stdout",
     "output_type": "stream",
     "text": [
      "\u001b[1;30mINFO\u001b[0m calrissian 0.12.0 (cwltool 3.1.20230201224320)\n",
      "\u001b[1;30mINFO\u001b[0m Resolved '/workflow-input/workflow.cwl#dnbr' to 'file:///workflow-input/..2023_03_22_11_05_50.1680561479/workflow.cwl#dnbr'\n",
      "\u001b[1;30mWARNING\u001b[0m \u001b[33mWorkflow checker warning:\n",
      "../workflow-input/..2023_03_22_11_05_50.1680561479/workflow.cwl:9:7:  Source 'aoi' of type [\"null\",\n",
      "                                                                      \"string\"] may be incompatible\n",
      "../workflow-input/..2023_03_22_11_05_50.1680561479/workflow.cwl:51:9:   with sink 'aoi' of type\n",
      "                                                                        \"string\"\u001b[0m\n",
      "\u001b[1;30mINFO\u001b[0m [workflow ] starting step node_nbr\n",
      "\u001b[1;30mINFO\u001b[0m [step node_nbr] start\n",
      "\u001b[1;30mINFO\u001b[0m [workflow node_nbr] starting step node_stac_2\n",
      "\u001b[1;30mINFO\u001b[0m [step node_stac_2] start\n",
      "\u001b[1;30mINFO\u001b[0m [step node_stac_2] start\n",
      "\u001b[1;30mINFO\u001b[0m [step node_stac_2] start\n",
      "\u001b[1;30mINFO\u001b[0m [step node_nbr] start\n",
      "\u001b[1;30mINFO\u001b[0m [workflow node_nbr_2] starting step node_stac_3\n",
      "\u001b[1;30mINFO\u001b[0m [step node_stac_3] start\n",
      "\u001b[1;30mINFO\u001b[0m [step node_stac_3] start\n",
      "\u001b[1;30mINFO\u001b[0m [step node_stac_3] start\n",
      "\u001b[1;30mINFO\u001b[0m [workflow ] start\n",
      "\u001b[1;30mINFO\u001b[0m [workflow node_nbr] start\n",
      "\u001b[1;30mINFO\u001b[0m [workflow node_nbr_2] start\n",
      "\u001b[1;30mINFO\u001b[0m [step node_stac_2] completed success\n",
      "\u001b[1;30mINFO\u001b[0m [workflow node_nbr] starting step node_subset\n",
      "\u001b[1;30mINFO\u001b[0m [step node_subset] start\n",
      "\u001b[1;30mINFO\u001b[0m [step node_subset] start\n",
      "\u001b[1;30mINFO\u001b[0m [step node_subset] start\n",
      "\u001b[1;30mINFO\u001b[0m [step node_stac_3] completed success\n",
      "\u001b[1;30mINFO\u001b[0m [workflow node_nbr_2] starting step node_subset_2\n",
      "\u001b[1;30mINFO\u001b[0m [step node_subset_2] start\n",
      "\u001b[1;30mINFO\u001b[0m [step node_subset_2] start\n",
      "\u001b[1;30mINFO\u001b[0m [step node_subset_2] start\n",
      "\u001b[1;30mINFO\u001b[0m [step node_subset] completed success\n",
      "\u001b[1;30mINFO\u001b[0m [workflow node_nbr] starting step node_nbr_2\n",
      "\u001b[1;30mINFO\u001b[0m [step node_nbr_2] start\n",
      "\u001b[1;30mINFO\u001b[0m [step node_subset_2] completed success\n",
      "\u001b[1;30mINFO\u001b[0m [workflow node_nbr_2] starting step node_nbr_3\n",
      "\u001b[1;30mINFO\u001b[0m [step node_nbr_3] start\n",
      "\u001b[1;30mINFO\u001b[0m [step node_nbr_2] completed success\n",
      "\u001b[1;30mINFO\u001b[0m [workflow node_nbr] starting step node_cog_2\n",
      "\u001b[1;30mINFO\u001b[0m [step node_cog_2] start\n",
      "\u001b[1;30mINFO\u001b[0m [step node_nbr_3] completed success\n",
      "\u001b[1;30mINFO\u001b[0m [workflow node_nbr_2] starting step node_cog_3\n",
      "\u001b[1;30mINFO\u001b[0m [step node_cog_3] start\n",
      "\u001b[1;30mINFO\u001b[0m [step node_cog_2] completed success\n",
      "\u001b[1;30mINFO\u001b[0m [workflow node_nbr] completed success\n",
      "\u001b[1;30mINFO\u001b[0m [step node_cog_3] completed success\n",
      "\u001b[1;30mINFO\u001b[0m [workflow node_nbr_2] completed success\n",
      "\u001b[1;30mINFO\u001b[0m [step node_nbr] completed success\n",
      "\u001b[1;30mINFO\u001b[0m [workflow ] starting step node_dnbr\n",
      "\u001b[1;30mINFO\u001b[0m [step node_dnbr] start\n",
      "\u001b[1;30mINFO\u001b[0m [step node_dnbr] completed success\n",
      "\u001b[1;30mINFO\u001b[0m [workflow ] starting step node_cog\n",
      "\u001b[1;30mINFO\u001b[0m [step node_cog] start\n",
      "\u001b[1;30mINFO\u001b[0m [step node_cog] completed success\n",
      "\u001b[1;30mINFO\u001b[0m [workflow ] starting step node_stac\n",
      "\u001b[1;30mINFO\u001b[0m [step node_stac] start\n",
      "\u001b[1;30mINFO\u001b[0m [step node_stac] completed success\n",
      "\u001b[1;30mINFO\u001b[0m [workflow ] completed success\n",
      "\u001b[1;30mINFO\u001b[0m Final process status is success\n",
      "{\n",
      "    \"stac\": {\n",
      "        \"location\": \"file:///calrissian/qk45d6lp\",\n",
      "        \"basename\": \"qk45d6lp\",\n",
      "        \"class\": \"Directory\",\n",
      "        \"listing\": [\n",
      "            {\n",
      "                \"class\": \"File\",\n",
      "                \"location\": \"file:///calrissian/qk45d6lp/dnbr-item.json\",\n",
      "                \"basename\": \"dnbr-item.json\",\n",
      "                \"checksum\": \"sha1$1c0a635ad501c599ab258019d05c7b276515c565\",\n",
      "                \"size\": 818,\n",
      "                \"path\": \"/calrissian/qk45d6lp/dnbr-item.json\"\n",
      "            },\n",
      "            {\n",
      "                \"class\": \"File\",\n",
      "                \"location\": \"file:///calrissian/qk45d6lp/catalog.json\",\n",
      "                \"basename\": \"catalog.json\",\n",
      "                \"checksum\": \"sha1$a5d1d9821e889aa125778e4f2e14a788ff1512ce\",\n",
      "                \"size\": 225,\n",
      "                \"path\": \"/calrissian/qk45d6lp/catalog.json\"\n",
      "            },\n",
      "            {\n",
      "                \"class\": \"File\",\n",
      "                \"location\": \"file:///calrissian/qk45d6lp/dnbr.tif\",\n",
      "                \"basename\": \"dnbr.tif\",\n",
      "                \"checksum\": \"sha1$87a3dfee0d055453dad525e8edd8a216121d808c\",\n",
      "                \"size\": 1402218,\n",
      "                \"path\": \"/calrissian/qk45d6lp/dnbr.tif\"\n",
      "            }\n",
      "        ],\n",
      "        \"path\": \"/calrissian/qk45d6lp\"\n",
      "    }\n",
      "}\n"
     ]
    }
   ],
   "source": [
    "log = execution.get_log()\n",
    "print(log)"
   ]
  },
  {
   "cell_type": "markdown",
   "metadata": {},
   "source": [
    "Get the usage report"
   ]
  },
  {
   "cell_type": "code",
   "execution_count": 19,
   "metadata": {},
   "outputs": [
    {
     "name": "stdout",
     "output_type": "stream",
     "text": [
      "copy /calrissian/report.json to .\n",
      "STDERR: tar: removing leading '/' from member names\n",
      "\n"
     ]
    },
    {
     "data": {
      "text/plain": [
       "{'cores_allowed': 2.0,\n",
       " 'ram_mb_allowed': 4000.0,\n",
       " 'children': [{'cpus': 1.0,\n",
       "   'ram_megabytes': 268.435456,\n",
       "   'disk_megabytes': 0.0,\n",
       "   'exit_code': 0,\n",
       "   'name': 'node_stac',\n",
       "   'start_time': '2023-03-22T11:06:52+00:00',\n",
       "   'finish_time': '2023-03-22T11:06:52+00:00',\n",
       "   'elapsed_hours': None,\n",
       "   'elapsed_seconds': 0.0,\n",
       "   'ram_megabyte_hours': None,\n",
       "   'cpu_hours': None},\n",
       "  {'cpus': 1.0,\n",
       "   'ram_megabytes': 268.435456,\n",
       "   'disk_megabytes': 0.0,\n",
       "   'exit_code': 0,\n",
       "   'name': 'node_stac_2',\n",
       "   'start_time': '2023-03-22T11:06:53+00:00',\n",
       "   'finish_time': '2023-03-22T11:06:53+00:00',\n",
       "   'elapsed_hours': None,\n",
       "   'elapsed_seconds': 0.0,\n",
       "   'ram_megabyte_hours': None,\n",
       "   'cpu_hours': None},\n",
       "  {'cpus': 1.0,\n",
       "   'ram_megabytes': 268.435456,\n",
       "   'disk_megabytes': 0.0,\n",
       "   'exit_code': 0,\n",
       "   'name': 'node_stac_3',\n",
       "   'start_time': '2023-03-22T11:06:55+00:00',\n",
       "   'finish_time': '2023-03-22T11:06:55+00:00',\n",
       "   'elapsed_hours': None,\n",
       "   'elapsed_seconds': 0.0,\n",
       "   'ram_megabyte_hours': None,\n",
       "   'cpu_hours': None},\n",
       "  {'cpus': 1.0,\n",
       "   'ram_megabytes': 268.435456,\n",
       "   'disk_megabytes': 0.0,\n",
       "   'exit_code': 0,\n",
       "   'name': 'node_stac_4',\n",
       "   'start_time': '2023-03-22T11:06:56+00:00',\n",
       "   'finish_time': '2023-03-22T11:06:56+00:00',\n",
       "   'elapsed_hours': None,\n",
       "   'elapsed_seconds': 0.0,\n",
       "   'ram_megabyte_hours': None,\n",
       "   'cpu_hours': None},\n",
       "  {'cpus': 1.0,\n",
       "   'ram_megabytes': 268.435456,\n",
       "   'disk_megabytes': 0.0,\n",
       "   'exit_code': 0,\n",
       "   'name': 'node_stac_6',\n",
       "   'start_time': '2023-03-22T11:07:01+00:00',\n",
       "   'finish_time': '2023-03-22T11:07:02+00:00',\n",
       "   'elapsed_hours': 0.0002777777777777778,\n",
       "   'elapsed_seconds': 1.0,\n",
       "   'ram_megabyte_hours': 0.07456540444444444,\n",
       "   'cpu_hours': 0.0002777777777777778},\n",
       "  {'cpus': 1.0,\n",
       "   'ram_megabytes': 268.435456,\n",
       "   'disk_megabytes': 0.0,\n",
       "   'exit_code': 0,\n",
       "   'name': 'node_stac_5',\n",
       "   'start_time': '2023-03-22T11:07:02+00:00',\n",
       "   'finish_time': '2023-03-22T11:07:03+00:00',\n",
       "   'elapsed_hours': 0.0002777777777777778,\n",
       "   'elapsed_seconds': 1.0,\n",
       "   'ram_megabyte_hours': 0.07456540444444444,\n",
       "   'cpu_hours': 0.0002777777777777778},\n",
       "  {'cpus': 1.0,\n",
       "   'ram_megabytes': 268.435456,\n",
       "   'disk_megabytes': 2.256036,\n",
       "   'exit_code': 0,\n",
       "   'name': 'node_subset',\n",
       "   'start_time': '2023-03-22T11:07:05+00:00',\n",
       "   'finish_time': '2023-03-22T11:07:14+00:00',\n",
       "   'elapsed_hours': 0.0025,\n",
       "   'elapsed_seconds': 9.0,\n",
       "   'ram_megabyte_hours': 0.67108864,\n",
       "   'cpu_hours': 0.0025},\n",
       "  {'cpus': 1.0,\n",
       "   'ram_megabytes': 268.435456,\n",
       "   'disk_megabytes': 2.256036,\n",
       "   'exit_code': 0,\n",
       "   'name': 'node_subset_2',\n",
       "   'start_time': '2023-03-22T11:07:17+00:00',\n",
       "   'finish_time': '2023-03-22T11:07:26+00:00',\n",
       "   'elapsed_hours': 0.0025,\n",
       "   'elapsed_seconds': 9.0,\n",
       "   'ram_megabyte_hours': 0.67108864,\n",
       "   'cpu_hours': 0.0025},\n",
       "  {'cpus': 1.0,\n",
       "   'ram_megabytes': 268.435456,\n",
       "   'disk_megabytes': 1.128247,\n",
       "   'exit_code': 0,\n",
       "   'name': 'node_subset_3',\n",
       "   'start_time': '2023-03-22T11:07:18+00:00',\n",
       "   'finish_time': '2023-03-22T11:07:26+00:00',\n",
       "   'elapsed_hours': 0.0022222222222222222,\n",
       "   'elapsed_seconds': 8.0,\n",
       "   'ram_megabyte_hours': 0.5965232355555555,\n",
       "   'cpu_hours': 0.0022222222222222222},\n",
       "  {'cpus': 1.0,\n",
       "   'ram_megabytes': 268.435456,\n",
       "   'disk_megabytes': 2.256036,\n",
       "   'exit_code': 0,\n",
       "   'name': 'node_subset_4',\n",
       "   'start_time': '2023-03-22T11:07:29+00:00',\n",
       "   'finish_time': '2023-03-22T11:07:42+00:00',\n",
       "   'elapsed_hours': 0.003611111111111111,\n",
       "   'elapsed_seconds': 13.0,\n",
       "   'ram_megabyte_hours': 0.9693502577777777,\n",
       "   'cpu_hours': 0.003611111111111111},\n",
       "  {'cpus': 1.0,\n",
       "   'ram_megabytes': 268.435456,\n",
       "   'disk_megabytes': 1.128247,\n",
       "   'exit_code': 0,\n",
       "   'name': 'node_subset_6',\n",
       "   'start_time': '2023-03-22T11:07:45+00:00',\n",
       "   'finish_time': '2023-03-22T11:07:53+00:00',\n",
       "   'elapsed_hours': 0.0022222222222222222,\n",
       "   'elapsed_seconds': 8.0,\n",
       "   'ram_megabyte_hours': 0.5965232355555555,\n",
       "   'cpu_hours': 0.0022222222222222222},\n",
       "  {'cpus': 1.0,\n",
       "   'ram_megabytes': 268.435456,\n",
       "   'disk_megabytes': 2.256036,\n",
       "   'exit_code': 0,\n",
       "   'name': 'node_subset_5',\n",
       "   'start_time': '2023-03-22T11:07:46+00:00',\n",
       "   'finish_time': '2023-03-22T11:07:55+00:00',\n",
       "   'elapsed_hours': 0.0025,\n",
       "   'elapsed_seconds': 9.0,\n",
       "   'ram_megabyte_hours': 0.67108864,\n",
       "   'cpu_hours': 0.0025},\n",
       "  {'cpus': 1.0,\n",
       "   'ram_megabytes': 268.435456,\n",
       "   'disk_megabytes': 4.515438,\n",
       "   'exit_code': 0,\n",
       "   'name': 'node_nbr',\n",
       "   'start_time': '2023-03-22T11:07:57+00:00',\n",
       "   'finish_time': '2023-03-22T11:07:57+00:00',\n",
       "   'elapsed_hours': None,\n",
       "   'elapsed_seconds': 0.0,\n",
       "   'ram_megabyte_hours': None,\n",
       "   'cpu_hours': None},\n",
       "  {'cpus': 1.0,\n",
       "   'ram_megabytes': 268.435456,\n",
       "   'disk_megabytes': 4.515438,\n",
       "   'exit_code': 0,\n",
       "   'name': 'node_nbr_2',\n",
       "   'start_time': '2023-03-22T11:08:00+00:00',\n",
       "   'finish_time': '2023-03-22T11:08:00+00:00',\n",
       "   'elapsed_hours': None,\n",
       "   'elapsed_seconds': 0.0,\n",
       "   'ram_megabyte_hours': None,\n",
       "   'cpu_hours': None},\n",
       "  {'cpus': 2.0,\n",
       "   'ram_megabytes': 2097.152,\n",
       "   'disk_megabytes': 1.829194,\n",
       "   'exit_code': 0,\n",
       "   'name': 'node_cog',\n",
       "   'start_time': '2023-03-22T11:08:03+00:00',\n",
       "   'finish_time': '2023-03-22T11:08:03+00:00',\n",
       "   'elapsed_hours': None,\n",
       "   'elapsed_seconds': 0.0,\n",
       "   'ram_megabyte_hours': None,\n",
       "   'cpu_hours': None},\n",
       "  {'cpus': 2.0,\n",
       "   'ram_megabytes': 2097.152,\n",
       "   'disk_megabytes': 3.947077,\n",
       "   'exit_code': 0,\n",
       "   'name': 'node_cog_2',\n",
       "   'start_time': '2023-03-22T11:08:06+00:00',\n",
       "   'finish_time': '2023-03-22T11:08:06+00:00',\n",
       "   'elapsed_hours': None,\n",
       "   'elapsed_seconds': 0.0,\n",
       "   'ram_megabyte_hours': None,\n",
       "   'cpu_hours': None},\n",
       "  {'cpus': 1.0,\n",
       "   'ram_megabytes': 268.435456,\n",
       "   'disk_megabytes': 4.515438,\n",
       "   'exit_code': 0,\n",
       "   'name': 'node_dnbr',\n",
       "   'start_time': '2023-03-22T11:08:09+00:00',\n",
       "   'finish_time': '2023-03-22T11:08:09+00:00',\n",
       "   'elapsed_hours': None,\n",
       "   'elapsed_seconds': 0.0,\n",
       "   'ram_megabyte_hours': None,\n",
       "   'cpu_hours': None},\n",
       "  {'cpus': 2.0,\n",
       "   'ram_megabytes': 2097.152,\n",
       "   'disk_megabytes': 1.402218,\n",
       "   'exit_code': 0,\n",
       "   'name': 'node_cog_3',\n",
       "   'start_time': '2023-03-22T11:08:12+00:00',\n",
       "   'finish_time': '2023-03-22T11:08:12+00:00',\n",
       "   'elapsed_hours': None,\n",
       "   'elapsed_seconds': 0.0,\n",
       "   'ram_megabyte_hours': None,\n",
       "   'cpu_hours': None},\n",
       "  {'cpus': 1.0,\n",
       "   'ram_megabytes': 268.435456,\n",
       "   'disk_megabytes': 0.0,\n",
       "   'exit_code': 0,\n",
       "   'name': 'node_stac_7',\n",
       "   'start_time': '2023-03-22T11:08:14+00:00',\n",
       "   'finish_time': '2023-03-22T11:08:15+00:00',\n",
       "   'elapsed_hours': 0.0002777777777777778,\n",
       "   'elapsed_seconds': 1.0,\n",
       "   'ram_megabyte_hours': 0.07456540444444444,\n",
       "   'cpu_hours': 0.0002777777777777778}],\n",
       " 'start_time': '2023-03-22T11:06:52+00:00',\n",
       " 'finish_time': '2023-03-22T11:08:15+00:00',\n",
       " 'elapsed_hours': 0.023055555555555555,\n",
       " 'elapsed_seconds': 83.0,\n",
       " 'total_cpu_hours': 0.016388888888888887,\n",
       " 'total_ram_megabyte_hours': 4.399358862222222,\n",
       " 'total_disk_megabytes': 32.005441,\n",
       " 'total_tasks': 19,\n",
       " 'max_parallel_cpus': 2.0,\n",
       " 'max_parallel_ram_megabytes': 536.870912,\n",
       " 'max_parallel_tasks': 2}"
      ]
     },
     "execution_count": 19,
     "metadata": {},
     "output_type": "execute_result"
    }
   ],
   "source": [
    "usage = execution.get_usage_report()\n",
    "usage"
   ]
  },
  {
   "cell_type": "markdown",
   "metadata": {},
   "source": [
    "Get the execution output"
   ]
  },
  {
   "cell_type": "code",
   "execution_count": 20,
   "metadata": {},
   "outputs": [
    {
     "name": "stdout",
     "output_type": "stream",
     "text": [
      "copy /calrissian/output.json to .\n",
      "STDERR: tar: removing leading '/' from member names\n",
      "\n"
     ]
    },
    {
     "data": {
      "text/plain": [
       "{'stac': {'location': 'file:///calrissian/qk45d6lp',\n",
       "  'basename': 'qk45d6lp',\n",
       "  'class': 'Directory',\n",
       "  'listing': [{'class': 'File',\n",
       "    'location': 'file:///calrissian/qk45d6lp/dnbr-item.json',\n",
       "    'basename': 'dnbr-item.json',\n",
       "    'checksum': 'sha1$1c0a635ad501c599ab258019d05c7b276515c565',\n",
       "    'size': 818,\n",
       "    'path': '/calrissian/qk45d6lp/dnbr-item.json'},\n",
       "   {'class': 'File',\n",
       "    'location': 'file:///calrissian/qk45d6lp/catalog.json',\n",
       "    'basename': 'catalog.json',\n",
       "    'checksum': 'sha1$a5d1d9821e889aa125778e4f2e14a788ff1512ce',\n",
       "    'size': 225,\n",
       "    'path': '/calrissian/qk45d6lp/catalog.json'},\n",
       "   {'class': 'File',\n",
       "    'location': 'file:///calrissian/qk45d6lp/dnbr.tif',\n",
       "    'basename': 'dnbr.tif',\n",
       "    'checksum': 'sha1$87a3dfee0d055453dad525e8edd8a216121d808c',\n",
       "    'size': 1402218,\n",
       "    'path': '/calrissian/qk45d6lp/dnbr.tif'}],\n",
       "  'path': '/calrissian/qk45d6lp'}}"
      ]
     },
     "execution_count": 20,
     "metadata": {},
     "output_type": "execute_result"
    }
   ],
   "source": [
    "output = execution.get_output()\n",
    "output"
   ]
  },
  {
   "cell_type": "markdown",
   "metadata": {},
   "source": [
    "Get a few details about the execution"
   ]
  },
  {
   "cell_type": "code",
   "execution_count": 21,
   "metadata": {},
   "outputs": [
    {
     "name": "stdout",
     "output_type": "stream",
     "text": [
      "2023-03-22 11:05:49+00:00\n",
      "2023-03-22 11:08:20+00:00\n"
     ]
    }
   ],
   "source": [
    "print(execution.get_start_time())\n",
    "print(execution.get_completion_time())"
   ]
  },
  {
   "cell_type": "code",
   "execution_count": 22,
   "metadata": {},
   "outputs": [
    {
     "name": "stdout",
     "output_type": "stream",
     "text": [
      "complete True\n",
      "succeeded True\n"
     ]
    }
   ],
   "source": [
    "print(f\"complete {execution.is_complete()}\")\n",
    "print(f\"succeeded {execution.is_succeeded()}\")"
   ]
  },
  {
   "cell_type": "code",
   "execution_count": 23,
   "metadata": {},
   "outputs": [
    {
     "name": "stdout",
     "output_type": "stream",
     "text": [
      "copy /calrissian/report.json to .\n",
      "STDERR: tar: removing leading '/' from member names\n",
      "\n",
      "copy /calrissian/node_stac.log to .\n",
      "STDERR: tar: removing leading '/' from member names\n",
      "\n",
      "copy /calrissian/node_stac_2.log to .\n",
      "STDERR: tar: removing leading '/' from member names\n",
      "\n",
      "copy /calrissian/node_stac_3.log to .\n",
      "STDERR: tar: removing leading '/' from member names\n",
      "\n",
      "copy /calrissian/node_stac_4.log to .\n",
      "STDERR: tar: removing leading '/' from member names\n",
      "\n",
      "copy /calrissian/node_stac_6.log to .\n",
      "STDERR: tar: removing leading '/' from member names\n",
      "\n",
      "copy /calrissian/node_stac_5.log to .\n",
      "STDERR: tar: removing leading '/' from member names\n",
      "\n",
      "copy /calrissian/node_subset.log to .\n",
      "STDERR: tar: removing leading '/' from member names\n",
      "\n",
      "copy /calrissian/node_subset_2.log to .\n",
      "STDERR: tar: removing leading '/' from member names\n",
      "\n",
      "copy /calrissian/node_subset_3.log to .\n",
      "STDERR: tar: removing leading '/' from member names\n",
      "\n",
      "copy /calrissian/node_subset_4.log to .\n",
      "STDERR: tar: removing leading '/' from member names\n",
      "\n",
      "copy /calrissian/node_subset_6.log to .\n",
      "STDERR: tar: removing leading '/' from member names\n",
      "\n",
      "copy /calrissian/node_subset_5.log to .\n",
      "STDERR: tar: removing leading '/' from member names\n",
      "\n",
      "copy /calrissian/node_nbr.log to .\n",
      "STDERR: tar: removing leading '/' from member names\n",
      "\n",
      "copy /calrissian/node_nbr_2.log to .\n",
      "STDERR: tar: removing leading '/' from member names\n",
      "\n",
      "copy /calrissian/node_cog.log to .\n",
      "STDERR: tar: removing leading '/' from member names\n",
      "\n",
      "copy /calrissian/node_cog_2.log to .\n",
      "STDERR: tar: removing leading '/' from member names\n",
      "\n",
      "copy /calrissian/node_dnbr.log to .\n",
      "STDERR: tar: removing leading '/' from member names\n",
      "\n",
      "copy /calrissian/node_cog_3.log to .\n",
      "STDERR: tar: removing leading '/' from member names\n",
      "\n",
      "copy /calrissian/node_stac_7.log to .\n",
      "STDERR: tar: removing leading '/' from member names\n",
      "\n"
     ]
    },
    {
     "data": {
      "text/plain": [
       "['./node_stac.log',\n",
       " './node_stac_2.log',\n",
       " './node_stac_3.log',\n",
       " './node_stac_4.log',\n",
       " './node_stac_6.log',\n",
       " './node_stac_5.log',\n",
       " './node_subset.log',\n",
       " './node_subset_2.log',\n",
       " './node_subset_3.log',\n",
       " './node_subset_4.log',\n",
       " './node_subset_6.log',\n",
       " './node_subset_5.log',\n",
       " './node_nbr.log',\n",
       " './node_nbr_2.log',\n",
       " './node_cog.log',\n",
       " './node_cog_2.log',\n",
       " './node_dnbr.log',\n",
       " './node_cog_3.log',\n",
       " './node_stac_7.log']"
      ]
     },
     "execution_count": 23,
     "metadata": {},
     "output_type": "execute_result"
    }
   ],
   "source": [
    "execution.get_tool_logs()"
   ]
  },
  {
   "cell_type": "markdown",
   "metadata": {},
   "source": [
    "Delete the Kubernetes namespace with:"
   ]
  },
  {
   "cell_type": "code",
   "execution_count": 17,
   "metadata": {},
   "outputs": [
    {
     "name": "stderr",
     "output_type": "stream",
     "text": [
      "2023-03-22 11:03:48.238 | INFO     | pycalrissian.context:dispose:121 - delete pod job-167948062876755-9399351e-e736-47f6-830d-89f9432b6fd4-h6brf\n",
      "2023-03-22 11:03:48.313 | INFO     | pycalrissian.context:dispose:121 - delete pod job-1679481953421835-58349bec-3178-45b6-827e-37ee74804919-44xdc\n",
      "2023-03-22 11:03:48.380 | INFO     | pycalrissian.context:dispose:121 - delete pod job-1679482405334652-5e620474-376e-413f-99ed-f40ca19ba08a-ftg9w\n",
      "2023-03-22 11:03:48.478 | INFO     | pycalrissian.context:dispose:121 - delete pod job-1679482833004388-941219c5-9755-46ce-9ebf-917dfda774a4-4fnd9\n",
      "2023-03-22 11:03:48.810 | INFO     | pycalrissian.context:dispose:121 - delete pod job-1679482833004388-941219c5-9755-46ce-9ebf-917dfda774a4-5kfdw\n",
      "2023-03-22 11:03:49.228 | INFO     | pycalrissian.context:dispose:121 - delete pod job-1679482833004388-941219c5-9755-46ce-9ebf-917dfda774a4-x889h\n",
      "2023-03-22 11:03:49.323 | INFO     | pycalrissian.context:dispose:124 - dispose namespace job-namespace\n",
      "2023-03-22 11:03:49.379 | INFO     | pycalrissian.context:dispose:132 - namespace job-namespace deleted\n"
     ]
    },
    {
     "data": {
      "text/plain": [
       "{'api_version': 'v1',\n",
       " 'code': None,\n",
       " 'details': None,\n",
       " 'kind': 'Namespace',\n",
       " 'message': None,\n",
       " 'metadata': {'_continue': None,\n",
       "              'remaining_item_count': None,\n",
       "              'resource_version': '18983565861',\n",
       "              'self_link': None},\n",
       " 'reason': None,\n",
       " 'status': \"{'phase': 'Terminating'}\"}"
      ]
     },
     "execution_count": 17,
     "metadata": {},
     "output_type": "execute_result"
    }
   ],
   "source": [
    "session.dispose()"
   ]
  },
  {
   "cell_type": "code",
   "execution_count": null,
   "metadata": {},
   "outputs": [],
   "source": []
  }
 ],
 "metadata": {
  "kernelspec": {
   "display_name": "Python 3.9.13 64-bit",
   "language": "python",
   "name": "python3"
  },
  "language_info": {
   "codemirror_mode": {
    "name": "ipython",
    "version": 3
   },
   "file_extension": ".py",
   "mimetype": "text/x-python",
   "name": "python",
   "nbconvert_exporter": "python",
   "pygments_lexer": "ipython3",
   "version": "3.9.13"
  },
  "orig_nbformat": 4,
  "vscode": {
   "interpreter": {
    "hash": "b092b3ceb185209bf534b40b2295835f349d1a9a642e5ff3920968ec9f7bbd66"
   }
  }
 },
 "nbformat": 4,
 "nbformat_minor": 2
}
